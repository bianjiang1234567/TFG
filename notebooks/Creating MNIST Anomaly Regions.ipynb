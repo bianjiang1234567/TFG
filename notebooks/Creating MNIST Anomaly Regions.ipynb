{
 "cells": [
  {
   "cell_type": "code",
   "execution_count": 1,
   "metadata": {},
   "outputs": [],
   "source": [
    "import tensorflow as tf\n",
    "import numpy as np\n",
    "import matplotlib.pyplot as plt\n",
    "import matplotlib.gridspec as gridspec\n",
    "\n",
    "%matplotlib inline\n",
    "plt.rcParams['figure.figsize'] = (10.0, 8.0) # set default size of plots\n",
    "plt.rcParams['image.interpolation'] = 'nearest'\n",
    "plt.rcParams['image.cmap'] = 'gray'"
   ]
  },
  {
   "cell_type": "code",
   "execution_count": 2,
   "metadata": {},
   "outputs": [
    {
     "name": "stdout",
     "output_type": "stream",
     "text": [
      "Extracting ../data/MNIST/train-images-idx3-ubyte.gz\n",
      "Extracting ../data/MNIST/train-labels-idx1-ubyte.gz\n",
      "Extracting ../data/MNIST/t10k-images-idx3-ubyte.gz\n",
      "Extracting ../data/MNIST/t10k-labels-idx1-ubyte.gz\n"
     ]
    }
   ],
   "source": [
    "from tensorflow.examples.tutorials.mnist import input_data\n",
    "mnist = input_data.read_data_sets('../data/MNIST', one_hot=False)"
   ]
  },
  {
   "cell_type": "code",
   "execution_count": 124,
   "metadata": {},
   "outputs": [],
   "source": [
    "# A bunch of utility functions\n",
    "\n",
    "def show_array_images(images):\n",
    "    images = np.reshape(images, [images.shape[0], -1])  # images reshape to (batch_size, D)\n",
    "    sqrtn = int(np.ceil(np.sqrt(images.shape[0])))\n",
    "    sqrtimg = int(np.ceil(np.sqrt(images.shape[1])))\n",
    "\n",
    "    fig = plt.figure(figsize=(sqrtn, sqrtn))\n",
    "    gs = gridspec.GridSpec(sqrtn, sqrtn)\n",
    "    gs.update(wspace=0.05, hspace=0.05)\n",
    "\n",
    "    for i, img in enumerate(images):\n",
    "        ax = plt.subplot(gs[i])\n",
    "        plt.axis('off')\n",
    "        ax.set_xticklabels([])\n",
    "        ax.set_yticklabels([])\n",
    "        ax.set_aspect('equal')\n",
    "        plt.imshow(img.reshape([sqrtimg,sqrtimg]))\n",
    "    return\n",
    "\n",
    "def imshow_noax(img, normalize=True):\n",
    "    \"\"\" Tiny helper to show images as uint8 and remove axis labels \"\"\"\n",
    "    if normalize:\n",
    "        img_max, img_min = np.max(img), np.min(img)\n",
    "        img = 255.0 * (img - img_min) / (img_max - img_min)\n",
    "    plt.imshow(img.astype('uint8'))\n",
    "    plt.gca().axis('off')\n",
    "    \n",
    "def imgshow(array_image):\n",
    "    \"\"\" Show one array image as uint8 and remove axis labels \"\"\"\n",
    "    sqrtimg = int(np.ceil(np.sqrt(image.shape[0])))\n",
    "    imshow_noax(image.reshape([sqrtimg,sqrtimg]), normalize=True)\n",
    "\n",
    "def array_to_image(array):\n",
    "    sqrtimg = int(np.ceil(np.sqrt(array.shape[0])))\n",
    "    x = np.array(array.reshape([sqrtimg,sqrtimg]))\n",
    "    return x\n",
    "    \n",
    "def image_to_array(image):\n",
    "    l = image.shape[0]*image.shape[1]\n",
    "    x = np.array(image.reshape([l]))\n",
    "    return x\n",
    "\n",
    "def center_square(array_image, square_h, square_w, pixel_value = 0.45):\n",
    "    img = array_to_image(array_image)\n",
    "    h, w = img.shape                     \n",
    "    j = int(round((h - square_h)/2.))\n",
    "    i = int(round((w - square_w)/2.))\n",
    "    img[j:j+square_h, i:i+square_w] = pixel_value\n",
    "    img = image_to_array(img)\n",
    "    return img\n",
    "\n",
    "def mask_images(array_images, masktype, *args):\n",
    "    \"\"\" Retruns an array of image and masked image pairs \"\"\"\n",
    "    masked_images = []\n",
    "    for array_image in array_images:\n",
    "        if masktype == 'square':\n",
    "            masked = center_square(array_image,*args)\n",
    "        masked_images.append(array_image)\n",
    "        masked_images.append(masked)\n",
    "    return np.array(masked_images)"
   ]
  },
  {
   "cell_type": "code",
   "execution_count": 125,
   "metadata": {},
   "outputs": [
    {
     "data": {
      "image/png": "[encoded data removed]",
      "text/plain": [
       "<matplotlib.figure.Figure at 0x7f495e9441d0>"
      ]
     },
     "metadata": {},
     "output_type": "display_data"
    }
   ],
   "source": [
    "# show a batch\n",
    "show_array_images(mnist.train.images[0:15],)"
   ]
  },
  {
   "cell_type": "code",
   "execution_count": 126,
   "metadata": {},
   "outputs": [
    {
     "data": {
      "image/png": "[encoded data removed]",
      "text/plain": [
       "<matplotlib.figure.Figure at 0x7f4959601f60>"
      ]
     },
     "metadata": {},
     "output_type": "display_data"
    }
   ],
   "source": [
    "images = mask_images(mnist.train.images[0:15],'square',10,10)\n",
    "show_array_images(images)"
   ]
  }
 ],
 "metadata": {
  "kernelspec": {
   "display_name": "Python 2",
   "language": "python",
   "name": "python2"
  },
  "language_info": {
   "codemirror_mode": {
    "name": "ipython",
    "version": 2
   },
   "file_extension": ".py",
   "mimetype": "text/x-python",
   "name": "python",
   "nbconvert_exporter": "python",
   "pygments_lexer": "ipython2",
   "version": "2.7.9"
  }
 },
 "nbformat": 4,
 "nbformat_minor": 2
}
