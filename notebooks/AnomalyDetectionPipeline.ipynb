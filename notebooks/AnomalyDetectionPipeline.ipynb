{
 "cells": [
  {
   "cell_type": "code",
   "execution_count": 1,
   "metadata": {},
   "outputs": [],
   "source": [
    "import tensorflow as tf\n",
    "import numpy as np\n",
    "import matplotlib.pyplot as plt\n",
    "import matplotlib.gridspec as gridspec\n",
    "from scipy.signal import convolve2d\n",
    "\n",
    "%matplotlib inline\n",
    "plt.rcParams['figure.figsize'] = (10.0, 8.0) # set default size of plots\n",
    "plt.rcParams['image.interpolation'] = 'nearest'\n",
    "plt.rcParams['image.cmap'] = 'gray'"
   ]
  },
  {
   "cell_type": "code",
   "execution_count": 2,
   "metadata": {},
   "outputs": [],
   "source": [
    "# A bunch of utility functions\n",
    "\n",
    "def show_array_images(images, title = ''):\n",
    "    images = np.reshape(images, [images.shape[0], -1])  # images reshape to (batch_size, D)\n",
    "    sqrtn = int(np.ceil(np.sqrt(images.shape[0])))\n",
    "    sqrtimg = int(np.ceil(np.sqrt(images.shape[1])))\n",
    "\n",
    "    fig = plt.figure(figsize=(sqrtn, sqrtn))\n",
    "    gs = gridspec.GridSpec(sqrtn, sqrtn)\n",
    "    gs.update(wspace=0.05, hspace=0.05)\n",
    "    \n",
    "    plt.suptitle(title)\n",
    "\n",
    "    for i, img in enumerate(images):\n",
    "        ax = plt.subplot(gs[i])\n",
    "        plt.axis('off')\n",
    "        ax.set_xticklabels([])\n",
    "        ax.set_yticklabels([])\n",
    "        ax.set_aspect('equal')\n",
    "        plt.imshow(img.reshape([sqrtimg,sqrtimg]))\n",
    "    return\n",
    "\n",
    "def imshow_noax(img, normalize=True):\n",
    "    \"\"\" Tiny helper to show images as uint8 and remove axis labels \"\"\"\n",
    "    if normalize:\n",
    "        img_max, img_min = np.max(img), np.min(img)\n",
    "        img = 255.0 * (img - img_min) / (img_max - img_min)\n",
    "    plt.imshow(img.astype('uint8'))\n",
    "    plt.gca().axis('off')\n",
    "    \n",
    "def imgshow(array_image):\n",
    "    \"\"\" Show one array image as uint8 and remove axis labels \"\"\"\n",
    "    sqrtimg = int(np.ceil(np.sqrt(array_image.shape[0])))\n",
    "    imshow_noax(array_image.reshape([sqrtimg,sqrtimg]), normalize=True)\n",
    "\n",
    "def array_to_image(array):\n",
    "    sqrtimg = int(np.ceil(np.sqrt(array.shape[0])))\n",
    "    x = np.array(array.reshape([sqrtimg,sqrtimg]))\n",
    "    return x\n",
    "    \n",
    "def image_to_array(image):\n",
    "    l = image.shape[0]*image.shape[1]\n",
    "    x = np.array(image.reshape([l]))\n",
    "    return x\n",
    "\n",
    "def center_square(array_image, square_h, square_w, pixel_value = 0.3):\n",
    "    img = array_to_image(array_image)\n",
    "    h, w = img.shape                     \n",
    "    j = int(round((h - square_h)/2.))\n",
    "    i = int(round((w - square_w)/2.))\n",
    "    img[j:j+square_h, i:i+square_w] = pixel_value\n",
    "    img = image_to_array(img)\n",
    "    return img\n",
    "\n",
    "def mask_images(array_images, masktype, *args):\n",
    "    \"\"\" Retruns an array of image and masked image pairs \"\"\"\n",
    "    masked_images = []\n",
    "    for array_image in array_images:\n",
    "        if masktype == 'square':\n",
    "            masked = center_square(array_image,*args)\n",
    "        masked_images.append(array_image)\n",
    "        masked_images.append(masked)\n",
    "    return np.array(masked_images)\n",
    "\n",
    "#utility functions for GANs\n",
    "\n",
    "def preprocess_img(x):\n",
    "    return 2 * x - 1.0\n",
    "\n",
    "def deprocess_img(x):\n",
    "    return (x + 1.0) / 2.0\n",
    "\n",
    "def get_session():\n",
    "    config = tf.ConfigProto()\n",
    "    config.gpu_options.allow_growth = True\n",
    "    session = tf.Session(config=config)\n",
    "    return session\n",
    "\n",
    "from itertools import izip\n",
    "\n",
    "def pairwise(iterable):\n",
    "    \"s -> (s0, s1), (s2, s3), (s4, s5), ...\"\n",
    "    a = iter(iterable)\n",
    "    return izip(a, a)\n",
    "\n",
    "def rescale(a):\n",
    "    return (a - np.min(a))/(np.max(a)-np.min(a))\n",
    "\n",
    "def postporcess(mean_anomaly, ksize=2, threshold = 0.55):\n",
    "    ker = np.ones((ksize,ksize))\n",
    "    a = convolve2d(array_to_image(mean_anomaly), ker, mode='same', boundary='symm')\n",
    "    a = rescale(a)\n",
    "    a = np.where(a >= threshold, 1,0)\n",
    "    predicted_mask = image_to_array(a)\n",
    "    return predicted_mask\n",
    "\n",
    "def int_over_union(predicted, ground_truth):\n",
    "    intersection = np.sum(np.multiply(predicted,ground_truth))\n",
    "    union = predicted + ground_truth\n",
    "    union = np.sum(np.clip(union,0,1))\n",
    "    return intersection/union"
   ]
  },
  {
   "cell_type": "code",
   "execution_count": 3,
   "metadata": {},
   "outputs": [
    {
     "name": "stdout",
     "output_type": "stream",
     "text": [
      "Extracting ../data/MNIST/train-images-idx3-ubyte.gz\n",
      "Extracting ../data/MNIST/train-labels-idx1-ubyte.gz\n",
      "Extracting ../data/MNIST/t10k-images-idx3-ubyte.gz\n",
      "Extracting ../data/MNIST/t10k-labels-idx1-ubyte.gz\n"
     ]
    }
   ],
   "source": [
    "from tensorflow.examples.tutorials.mnist import input_data\n",
    "mnist = input_data.read_data_sets('../data/MNIST', one_hot=False)"
   ]
  },
  {
   "cell_type": "code",
   "execution_count": 4,
   "metadata": {},
   "outputs": [
    {
     "data": {
      "image/png": "[encoded data removed]",
      "text/plain": [
       "<matplotlib.figure.Figure at 0x7fc1dfa34550>"
      ]
     },
     "metadata": {},
     "output_type": "display_data"
    }
   ],
   "source": [
    "#Mask\n",
    "mask = np.zeros(mnist.train.images[0].shape)\n",
    "mask = center_square(mask,7,7)\n",
    "rounded_mask = center_square(mask,7,7,1)\n",
    "\n",
    "#Generating anomalies in images\n",
    "masked_images = mask_images(mnist.train.images[0:15],'square',7,7, 0.5)\n",
    "show_array_images(masked_images)"
   ]
  },
  {
   "cell_type": "code",
   "execution_count": 5,
   "metadata": {},
   "outputs": [
    {
     "name": "stdout",
     "output_type": "stream",
     "text": [
      "INFO:tensorflow:Restoring parameters from ../models/mnist_dcgan/mnist_dcgan.ckpt\n"
     ]
    }
   ],
   "source": [
    "#Restore a model\n",
    "tf.reset_default_graph()\n",
    "sess=tf.Session()    \n",
    "#First let's load meta graph and restore weights\n",
    "saver = tf.train.import_meta_graph('../models/mnist_dcgan/mnist_dcgan.ckpt.meta')\n",
    "saver.restore(sess,tf.train.latest_checkpoint('../models/mnist_dcgan/'))"
   ]
  },
  {
   "cell_type": "code",
   "execution_count": 6,
   "metadata": {},
   "outputs": [],
   "source": [
    "#Find the nodes in the graph\n",
    "graph = tf.get_default_graph()\n",
    "\n",
    "#input of first operation we want to restore: generator = genertor input\n",
    "#gi = graph.get_tensor_by_name(\"random_uniform/mul:0\")\n",
    "gi = graph.get_tensor_by_name(\"random_normal/mul:0\")\n",
    "\n",
    "#output of last operation we want to restore: discriminator = generator output\n",
    "go = graph.get_tensor_by_name(\"generator/last_op_generator:0\")\n",
    "#go = graph.get_tensor_by_name(\"generator/Reshape_1:0\")\n",
    "\n",
    "#Generator loss\n",
    "gl = graph.get_tensor_by_name(\"generator_loss:0\")\n",
    "#gl = graph.get_tensor_by_name(\"Mean_2:0\")\n",
    "\n",
    "#Discriminator feature layer output\n",
    "dfl = graph.get_tensor_by_name('discriminator/dense_layer/Maximum:0')\n",
    "\n",
    "#Discriminator input\n",
    "di = graph.get_tensor_by_name('sub:0')"
   ]
  },
  {
   "cell_type": "code",
   "execution_count": 7,
   "metadata": {},
   "outputs": [],
   "source": [
    "#Operations in the graph\n",
    "\n",
    "def generator(z,gi,go):\n",
    "    G_sample = sess.run(go, feed_dict={gi: z})\n",
    "    return G_sample\n",
    "\n",
    "def features(image):\n",
    "    features = sess.run(dfl,feed_dict={di: np.reshape(image, [-1,784])})\n",
    "    return features"
   ]
  },
  {
   "cell_type": "code",
   "execution_count": 8,
   "metadata": {},
   "outputs": [],
   "source": [
    "# number of images for each batch\n",
    "batch_size = 128\n",
    "# our noise dimension\n",
    "noise_dim = 96\n",
    "#input dimensions\n",
    "image_shape = go.shape[1:].as_list()\n",
    "\n",
    "#Variables \n",
    "z = sess.run(tf.random_uniform([batch_size, noise_dim], minval=-1, maxval=-0.5))\n",
    "\n",
    "# Generated images\n",
    "G_sample = generator(z,gi,go)\n",
    "\n",
    "#Get solver\n",
    "z_solver = tf.train.AdamOptimizer(learning_rate=1e-3, beta1=0.5)\n",
    "\n",
    "#Get loss\n",
    "alpha = 0.5\n",
    "beta = 100\n",
    "\n",
    "with graph.as_default():\n",
    "    images = tf.placeholder(tf.float32,image_shape, name='images') \n",
    "    xf = tf.placeholder(tf.float32,[1,1024], name='x_features') \n",
    "    \n",
    "    #define loss\n",
    "    L2_loss = tf.nn.l2_loss(go-images)\n",
    "    perceptual_loss = tf.nn.l2_loss(dfl-xf)\n",
    "    z_loss = alpha*L2_loss + (1-alpha)*beta*perceptual_loss\n",
    "    z_grads = tf.gradients(z_loss, gi)"
   ]
  },
  {
   "cell_type": "code",
   "execution_count": 9,
   "metadata": {},
   "outputs": [],
   "source": [
    "def z_search(z, x, real_x, features, alpha,beta, nIter = 3000, v = 0, momentum = 0.9, adam = False, nesterov = False,\n",
    "             lr = 0.001, print_every = 250, show_every = 500, multiple_images = False, decay_every  = 1000, \n",
    "             m = 0):\n",
    "    \n",
    "    loss_history = []\n",
    "    show_history = []\n",
    "    \n",
    "    for i in range(nIter):\n",
    "        out_vars = [L2_loss, perceptual_loss, z_loss, z_grads, go]\n",
    "        in_dict = {gi: z, images: preprocess_img(x), xf: features, di: generator(z,gi,go) }\n",
    "\n",
    "        loss1, loss2, loss, grad, imout = sess.run(out_vars, feed_dict=in_dict)\n",
    "            \n",
    "        #step decay\n",
    "        if (i % decay_every == 0):\n",
    "            lr = 0.5*lr\n",
    "            \n",
    "        if nesterov:    \n",
    "            #Nesterov\n",
    "            v_prev = np.copy(v)\n",
    "            v = momentum*v - lr*grad[0]\n",
    "            z += (-momentum * v_prev +\n",
    "                       (1 + momentum) * v)\n",
    "            z = np.clip(z, -1, 1)\n",
    "        \n",
    "        if adam:\n",
    "            eps = 1e-8\n",
    "            beta1 = 0.9\n",
    "            beta2 = 0.999\n",
    "            # Adam t is your iteration counter going from 1 to infinity\n",
    "            dx = grad[0]\n",
    "            t = i+1\n",
    "            m = beta1*m + (1-beta1)*dx\n",
    "            mt = m / (1-beta1**t)\n",
    "            v = beta2*v + (1-beta2)*(dx**2)\n",
    "            vt = v / (1-beta2**t)\n",
    "            z += - lr * mt / (np.sqrt(vt) + eps)        \n",
    "        \n",
    "        #Mean image\n",
    "        mean = np.mean(imout, axis = 0)\n",
    "        mean = deprocess_img(mean)\n",
    "        \n",
    "        if not(multiple_images):\n",
    "            if (i % print_every == 0):\n",
    "                print('Iteration {}: {}, l2: {}, pl:{}'.format(i, loss, alpha*loss1, (1-alpha)*beta*loss2))\n",
    "        \n",
    "            if (i % show_every == 0):\n",
    "                show = np.array([real_x,x,imout[0],mean])\n",
    "                show_array_images(show)\n",
    "                plt.show()\n",
    "        else:\n",
    "            if (i % show_every == 0):\n",
    "                show_history.append(np.array([real_x,x,imout[0],mean]))\n",
    "            \n",
    "        loss_history.append(loss)\n",
    "        \n",
    "    if not(multiple_images):     \n",
    "        #final print\n",
    "        print('Final images:')\n",
    "        show = np.array([real_x,x,imout[0],mean])\n",
    "        show_array_images(show)\n",
    "        plt.show()\n",
    "    \n",
    "    return imout, loss_history, mean"
   ]
  },
  {
   "cell_type": "code",
   "execution_count": 12,
   "metadata": {},
   "outputs": [
    {
     "name": "stdout",
     "output_type": "stream",
     "text": [
      "Pair: 1\n"
     ]
    }
   ],
   "source": [
    "input_images = masked_images[10:12]\n",
    "\n",
    "show = []\n",
    "loss = []\n",
    "anomaly_err = []\n",
    "counter = 1\n",
    "\n",
    "for real_x, x in pairwise(input_images):\n",
    "    z = sess.run(tf.random_uniform([batch_size, noise_dim], minval=-1, maxval=1))\n",
    "    fts = features(x)\n",
    "    imout,loss_history, mean = z_search(z, x,real_x,fts, alpha, beta, nIter=3000, multiple_images=True, lr = 1e-2,\n",
    "                                        decay_every = 800, adam = False, nesterov = True) \n",
    "    loss.append(loss_history)\n",
    "\n",
    "    #Anomaly with mean\n",
    "    #result = np.abs(mean-x)\n",
    "    mean_anomaly = np.mean(np.abs(deprocess_img(imout)-x), axis=0)\n",
    "    \n",
    "    #Postprocess\n",
    "    predicted_mask = postporcess(mean_anomaly)\n",
    "    \n",
    "    #Quantify error between detected anomaly and real anomaly\n",
    "    err = int_over_union(predicted_mask,rounded_mask) \n",
    "    anomaly_err.append(err)   \n",
    "    \n",
    "    #Save show images\n",
    "    s = np.array([real_x,x,rounded_mask,mean,mean_anomaly,predicted_mask])\n",
    "    show.append(s)\n",
    "    \n",
    "    print('Pair: {}'.format(counter))\n",
    "    counter += 1"
   ]
  },
  {
   "cell_type": "code",
   "execution_count": 13,
   "metadata": {},
   "outputs": [
    {
     "data": {
      "image/png": "[encoded data removed]",
      "text/plain": [
       "<matplotlib.figure.Figure at 0x7fc1ba39f450>"
      ]
     },
     "metadata": {},
     "output_type": "display_data"
    }
   ],
   "source": [
    "for i in range(len(loss)):\n",
    "    title = 'Final loss: {}, Anomaly IOU: {}'.format(loss[i][-1], anomaly_err[i])\n",
    "    show_array_images(show[i],title)"
   ]
  },
  {
   "cell_type": "code",
   "execution_count": 23,
   "metadata": {},
   "outputs": [
    {
     "name": "stdout",
     "output_type": "stream",
     "text": [
      "Final metric: 0.578266666897\n"
     ]
    }
   ],
   "source": [
    "print('Final metric: {}'.format(np.mean(anomaly_err)))"
   ]
  }
 ],
 "metadata": {
  "kernelspec": {
   "display_name": "Python 2",
   "language": "python",
   "name": "python2"
  },
  "language_info": {
   "codemirror_mode": {
    "name": "ipython",
    "version": 2
   },
   "file_extension": ".py",
   "mimetype": "text/x-python",
   "name": "python",
   "nbconvert_exporter": "python",
   "pygments_lexer": "ipython2",
   "version": "2.7.9"
  }
 },
 "nbformat": 4,
 "nbformat_minor": 2
}
