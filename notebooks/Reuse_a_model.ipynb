{
 "cells": [
  {
   "cell_type": "code",
   "execution_count": 1,
   "metadata": {},
   "outputs": [],
   "source": [
    "import tensorflow as tf\n",
    "import numpy as np\n",
    "import matplotlib.pyplot as plt\n",
    "import matplotlib.gridspec as gridspec\n",
    "\n",
    "%matplotlib inline\n",
    "plt.rcParams['figure.figsize'] = (10.0, 8.0) # set default size of plots\n",
    "plt.rcParams['image.interpolation'] = 'nearest'\n",
    "plt.rcParams['image.cmap'] = 'gray'"
   ]
  },
  {
   "cell_type": "code",
   "execution_count": 2,
   "metadata": {},
   "outputs": [],
   "source": [
    "# A bunch of utility functions\n",
    "\n",
    "def show_array_images(images):\n",
    "    images = np.reshape(images, [images.shape[0], -1])  # images reshape to (batch_size, D)\n",
    "    sqrtn = int(np.ceil(np.sqrt(images.shape[0])))\n",
    "    sqrtimg = int(np.ceil(np.sqrt(images.shape[1])))\n",
    "\n",
    "    fig = plt.figure(figsize=(sqrtn, sqrtn))\n",
    "    gs = gridspec.GridSpec(sqrtn, sqrtn)\n",
    "    gs.update(wspace=0.05, hspace=0.05)\n",
    "\n",
    "    for i, img in enumerate(images):\n",
    "        ax = plt.subplot(gs[i])\n",
    "        plt.axis('off')\n",
    "        ax.set_xticklabels([])\n",
    "        ax.set_yticklabels([])\n",
    "        ax.set_aspect('equal')\n",
    "        plt.imshow(img.reshape([sqrtimg,sqrtimg]))\n",
    "    return\n",
    "\n",
    "def imshow_noax(img, normalize=True):\n",
    "    \"\"\" Tiny helper to show images as uint8 and remove axis labels \"\"\"\n",
    "    if normalize:\n",
    "        img_max, img_min = np.max(img), np.min(img)\n",
    "        img = 255.0 * (img - img_min) / (img_max - img_min)\n",
    "    plt.imshow(img.astype('uint8'))\n",
    "    plt.gca().axis('off')\n",
    "    \n",
    "def imgshow(array_image):\n",
    "    \"\"\" Show one array image as uint8 and remove axis labels \"\"\"\n",
    "    sqrtimg = int(np.ceil(np.sqrt(array_image.shape[0])))\n",
    "    imshow_noax(array_image.reshape([sqrtimg,sqrtimg]), normalize=True)\n",
    "\n",
    "def array_to_image(array):\n",
    "    sqrtimg = int(np.ceil(np.sqrt(array.shape[0])))\n",
    "    x = np.array(array.reshape([sqrtimg,sqrtimg]))\n",
    "    return x\n",
    "    \n",
    "def image_to_array(image):\n",
    "    l = image.shape[0]*image.shape[1]\n",
    "    x = np.array(image.reshape([l]))\n",
    "    return x\n",
    "\n",
    "def center_square(array_image, square_h, square_w, pixel_value = 0.45):\n",
    "    img = array_to_image(array_image)\n",
    "    h, w = img.shape                     \n",
    "    j = int(round((h - square_h)/2.))\n",
    "    i = int(round((w - square_w)/2.))\n",
    "    img[j:j+square_h, i:i+square_w] = pixel_value\n",
    "    img = image_to_array(img)\n",
    "    return img\n",
    "\n",
    "def mask_images(array_images, masktype, *args):\n",
    "    \"\"\" Retruns an array of image and masked image pairs \"\"\"\n",
    "    masked_images = []\n",
    "    for array_image in array_images:\n",
    "        if masktype == 'square':\n",
    "            masked = center_square(array_image,*args)\n",
    "        masked_images.append(array_image)\n",
    "        masked_images.append(masked)\n",
    "    return np.array(masked_images)\n",
    "\n",
    "#utility functions for GANs\n",
    "\n",
    "def preprocess_img(x):\n",
    "    return 2 * x - 1.0\n",
    "\n",
    "def deprocess_img(x):\n",
    "    return (x + 1.0) / 2.0\n",
    "\n",
    "def get_session():\n",
    "    config = tf.ConfigProto()\n",
    "    config.gpu_options.allow_growth = True\n",
    "    session = tf.Session(config=config)\n",
    "    return session"
   ]
  },
  {
   "cell_type": "code",
   "execution_count": 3,
   "metadata": {},
   "outputs": [
    {
     "name": "stdout",
     "output_type": "stream",
     "text": [
      "Extracting ../data/MNIST/train-images-idx3-ubyte.gz\n",
      "Extracting ../data/MNIST/train-labels-idx1-ubyte.gz\n",
      "Extracting ../data/MNIST/t10k-images-idx3-ubyte.gz\n",
      "Extracting ../data/MNIST/t10k-labels-idx1-ubyte.gz\n"
     ]
    }
   ],
   "source": [
    "from tensorflow.examples.tutorials.mnist import input_data\n",
    "mnist = input_data.read_data_sets('../data/MNIST', one_hot=False)"
   ]
  },
  {
   "cell_type": "code",
   "execution_count": 4,
   "metadata": {},
   "outputs": [
    {
     "data": {
      "image/png": "[encoded data removed]",
      "text/plain": [
       "<matplotlib.figure.Figure at 0x7fa72c930690>"
      ]
     },
     "metadata": {},
     "output_type": "display_data"
    }
   ],
   "source": [
    "#Generating anomalies in images\n",
    "masked_images = mask_images(mnist.train.images[0:15],'square',10,10)\n",
    "show_array_images(masked_images)"
   ]
  },
  {
   "cell_type": "code",
   "execution_count": 5,
   "metadata": {},
   "outputs": [
    {
     "data": {
      "image/png": "[encoded data removed]",
      "text/plain": [
       "<matplotlib.figure.Figure at 0x7fa729580950>"
      ]
     },
     "metadata": {},
     "output_type": "display_data"
    }
   ],
   "source": [
    "show = np.array([masked_images[0],preprocess_img(masked_images[0])])\n",
    "show_array_images(show)                "
   ]
  },
  {
   "cell_type": "code",
   "execution_count": 6,
   "metadata": {},
   "outputs": [
    {
     "name": "stdout",
     "output_type": "stream",
     "text": [
      "INFO:tensorflow:Restoring parameters from ../models/mnist_dcgan.ckpt\n"
     ]
    }
   ],
   "source": [
    "#Restore a model\n",
    "\n",
    "sess=tf.Session()    \n",
    "#First let's load meta graph and restore weights\n",
    "saver = tf.train.import_meta_graph('../models/mnist_dcgan.ckpt.meta')\n",
    "saver.restore(sess,tf.train.latest_checkpoint('../models/'))"
   ]
  },
  {
   "cell_type": "code",
   "execution_count": 7,
   "metadata": {},
   "outputs": [],
   "source": [
    "#Search inside ops\n",
    "graph = tf.get_default_graph()\n",
    "ops = graph.get_operations()\n",
    "\n",
    "#searching with name and shape!\n",
    "#[print(op.name, op.outputs) for op in ops if 'random_uniform/' in op.name]\n",
    "op = graph.get_operation_by_name(\"random_uniform/mul\")\n",
    "#print(op)"
   ]
  },
  {
   "cell_type": "code",
   "execution_count": 8,
   "metadata": {},
   "outputs": [],
   "source": [
    "#Sample from generator\n",
    "# number of images for each batch\n",
    "batch_size = 128\n",
    "# our noise dimension\n",
    "noise_dim = 96\n",
    "\n",
    "graph = tf.get_default_graph()\n",
    "\n",
    "#input of first operation we want to restore: generator = genertor input\n",
    "gi = graph.get_tensor_by_name(\"random_uniform/mul:0\")\n",
    "\n",
    "#input of last operation we want to restore: discriminator = generator output\n",
    "go = graph.get_tensor_by_name(\"generator/Reshape_1:0\")\n",
    "z = np.random.uniform(low=-1, high=1,size=(batch_size,noise_dim))\n",
    "sample_out = sess.run(go, feed_dict={gi: z})"
   ]
  },
  {
   "cell_type": "code",
   "execution_count": 9,
   "metadata": {},
   "outputs": [
    {
     "data": {
      "image/png": "[encoded data removed]",
      "text/plain": [
       "<matplotlib.figure.Figure at 0x7fa7294d67d0>"
      ]
     },
     "metadata": {},
     "output_type": "display_data"
    }
   ],
   "source": [
    "show_array_images(sample_out[0:16])"
   ]
  },
  {
   "cell_type": "code",
   "execution_count": 10,
   "metadata": {},
   "outputs": [],
   "source": [
    "#Find discriminator loss\n",
    "#[print(op.name, op.outputs,op) for op in ops if 'Mean' in op.name]\n",
    "\n",
    "#generator loss\n",
    "gl = graph.get_tensor_by_name(\"Mean_2:0\")"
   ]
  },
  {
   "cell_type": "code",
   "execution_count": 32,
   "metadata": {},
   "outputs": [],
   "source": [
    "#Adding new ops to the graph\n",
    "image_shape = go.shape[1:].as_list()\n",
    "\n",
    "alpha = 0.3\n",
    "\n",
    "with graph.as_default():\n",
    "    images = tf.placeholder(tf.float32,image_shape, name='images') \n",
    "    #define loss\n",
    "    L2_loss = tf.nn.l2_loss(go-images)\n",
    "    perceptual_loss = gl\n",
    "    z_loss = L2_loss + 0.5*perceptual_loss\n",
    "    z_grads = tf.gradients(z_loss, gi)"
   ]
  },
  {
   "cell_type": "code",
   "execution_count": 33,
   "metadata": {},
   "outputs": [],
   "source": [
    "def z_search(z, x, real_x, nIter = 100, v = 0, momentum = 0.9, lr = 0.001, print_every = 10, show_every = 50):\n",
    "    for i in range(nIter):\n",
    "        out_vars = [z_loss, z_grads, go]\n",
    "        in_dict = {gi: z, images: preprocess_img(x)}\n",
    "\n",
    "        loss, grad, imout = sess.run(out_vars, feed_dict=in_dict)\n",
    "        \n",
    "        #print(x,imout[0])\n",
    "        v_prev = np.copy(v)\n",
    "        v = momentum*v - lr*grad[0]\n",
    "        z += (-momentum * v_prev +\n",
    "                   (1 + momentum) * v)\n",
    "        z = np.clip(z, -1, 1)\n",
    "        if (i % print_every == 0):\n",
    "            print('Iteration {}: {}'.format(i, np.mean(loss)))\n",
    "\n",
    "        if (i % show_every == 0):\n",
    "            show = np.array([real_x,x,imout[0],imout[1]])\n",
    "            show_array_images(show)\n",
    "            plt.show()\n",
    "    \n",
    "    #final print\n",
    "    show = np.array([real_x,x,imout[0],imout[1]])\n",
    "    show_array_images(show)\n",
    "    plt.show()\n",
    "    return imout"
   ]
  },
  {
   "cell_type": "code",
   "execution_count": 34,
   "metadata": {},
   "outputs": [
    {
     "name": "stdout",
     "output_type": "stream",
     "text": [
      "Iteration 0: 11927.4189453\n"
     ]
    },
    {
     "data": {
      "image/png": "[encoded data removed]",
      "text/plain": [
       "<matplotlib.figure.Figure at 0x7fa6f4091cd0>"
      ]
     },
     "metadata": {},
     "output_type": "display_data"
    },
    {
     "name": "stdout",
     "output_type": "stream",
     "text": [
      "Iteration 200: 8415.01757812\n"
     ]
    },
    {
     "data": {
      "image/png": "[encoded data removed]",
      "text/plain": [
       "<matplotlib.figure.Figure at 0x7fa6edde8250>"
      ]
     },
     "metadata": {},
     "output_type": "display_data"
    },
    {
     "name": "stdout",
     "output_type": "stream",
     "text": [
      "Iteration 400: 7879.18408203\n"
     ]
    },
    {
     "data": {
      "image/png": "[encoded data removed]",
      "text/plain": [
       "<matplotlib.figure.Figure at 0x7fa6edaa9b10>"
      ]
     },
     "metadata": {},
     "output_type": "display_data"
    },
    {
     "name": "stdout",
     "output_type": "stream",
     "text": [
      "Iteration 600: 7614.45410156\n"
     ]
    },
    {
     "data": {
      "image/png": "[encoded data removed]",
      "text/plain": [
       "<matplotlib.figure.Figure at 0x7fa6edd85190>"
      ]
     },
     "metadata": {},
     "output_type": "display_data"
    },
    {
     "name": "stdout",
     "output_type": "stream",
     "text": [
      "Iteration 800: 7405.33056641\n"
     ]
    },
    {
     "data": {
      "image/png": "[encoded data removed]",
      "text/plain": [
       "<matplotlib.figure.Figure at 0x7fa6f43ca510>"
      ]
     },
     "metadata": {},
     "output_type": "display_data"
    },
    {
     "name": "stdout",
     "output_type": "stream",
     "text": [
      "Iteration 1000: 7259.50048828\n"
     ]
    },
    {
     "data": {
      "image/png": "[encoded data removed]",
      "text/plain": [
       "<matplotlib.figure.Figure at 0x7fa6edf819d0>"
      ]
     },
     "metadata": {},
     "output_type": "display_data"
    },
    {
     "name": "stdout",
     "output_type": "stream",
     "text": [
      "Iteration 1200: 7125.67138672\n"
     ]
    },
    {
     "data": {
      "image/png": "[encoded data removed]",
      "text/plain": [
       "<matplotlib.figure.Figure at 0x7fa6ed6cb250>"
      ]
     },
     "metadata": {},
     "output_type": "display_data"
    },
    {
     "name": "stdout",
     "output_type": "stream",
     "text": [
      "Iteration 1400: 6997.24414062\n"
     ]
    },
    {
     "data": {
      "image/png": "[encoded data removed]",
      "text/plain": [
       "<matplotlib.figure.Figure at 0x7fa6f42a81d0>"
      ]
     },
     "metadata": {},
     "output_type": "display_data"
    },
    {
     "name": "stdout",
     "output_type": "stream",
     "text": [
      "Iteration 1600: 6891.96337891\n"
     ]
    },
    {
     "data": {
      "image/png": "[encoded data removed]",
      "text/plain": [
       "<matplotlib.figure.Figure at 0x7fa6f4063650>"
      ]
     },
     "metadata": {},
     "output_type": "display_data"
    },
    {
     "name": "stdout",
     "output_type": "stream",
     "text": [
      "Iteration 1800: 6787.60449219\n"
     ]
    },
    {
     "data": {
      "image/png": "[encoded data removed]",
      "text/plain": [
       "<matplotlib.figure.Figure at 0x7fa6edcc3b50>"
      ]
     },
     "metadata": {},
     "output_type": "display_data"
    },
    {
     "name": "stdout",
     "output_type": "stream",
     "text": [
      "Iteration 2000: 6715.11376953\n"
     ]
    },
    {
     "data": {
      "image/png": "[encoded data removed]",
      "text/plain": [
       "<matplotlib.figure.Figure at 0x7fa6ece91d50>"
      ]
     },
     "metadata": {},
     "output_type": "display_data"
    },
    {
     "name": "stdout",
     "output_type": "stream",
     "text": [
      "Iteration 2200: 6619.94042969\n"
     ]
    },
    {
     "data": {
      "image/png": "[encoded data removed]",
      "text/plain": [
       "<matplotlib.figure.Figure at 0x7fa6f444b710>"
      ]
     },
     "metadata": {},
     "output_type": "display_data"
    },
    {
     "name": "stdout",
     "output_type": "stream",
     "text": [
      "Iteration 2400: 6546.70458984\n"
     ]
    },
    {
     "data": {
      "image/png": "[encoded data removed]",
      "text/plain": [
       "<matplotlib.figure.Figure at 0x7fa6ecefbdd0>"
      ]
     },
     "metadata": {},
     "output_type": "display_data"
    },
    {
     "name": "stdout",
     "output_type": "stream",
     "text": [
      "Iteration 2600: 6478.7890625\n"
     ]
    },
    {
     "data": {
      "image/png": "[encoded data removed]",
      "text/plain": [
       "<matplotlib.figure.Figure at 0x7fa6eddc12d0>"
      ]
     },
     "metadata": {},
     "output_type": "display_data"
    },
    {
     "name": "stdout",
     "output_type": "stream",
     "text": [
      "Iteration 2800: 6426.38037109\n"
     ]
    },
    {
     "data": {
      "image/png": "[encoded data removed]",
      "text/plain": [
       "<matplotlib.figure.Figure at 0x7fa6ed7f0f90>"
      ]
     },
     "metadata": {},
     "output_type": "display_data"
    },
    {
     "data": {
      "image/png": "[encoded data removed]",
      "text/plain": [
       "<matplotlib.figure.Figure at 0x7fa6ed508cd0>"
      ]
     },
     "metadata": {},
     "output_type": "display_data"
    }
   ],
   "source": [
    "#Search in latent space\n",
    "z = np.random.uniform(low=-1, high=1,size=(batch_size,noise_dim))\n",
    "\n",
    "real_x = masked_images[8]\n",
    "x = masked_images[9]\n",
    "\n",
    "imout = z_search(z, x,real_x, nIter=3000, show_every=200, print_every=200, lr = 0.0001)"
   ]
  },
  {
   "cell_type": "code",
   "execution_count": 35,
   "metadata": {},
   "outputs": [
    {
     "data": {
      "image/png": "[encoded data removed]",
      "text/plain": [
       "<matplotlib.figure.Figure at 0x7fa6ed77dc90>"
      ]
     },
     "metadata": {},
     "output_type": "display_data"
    }
   ],
   "source": [
    "show_array_images(deprocess_img(imout[0:50]))"
   ]
  }
 ],
 "metadata": {
  "kernelspec": {
   "display_name": "Python 2",
   "language": "python",
   "name": "python2"
  },
  "language_info": {
   "codemirror_mode": {
    "name": "ipython",
    "version": 2
   },
   "file_extension": ".py",
   "mimetype": "text/x-python",
   "name": "python",
   "nbconvert_exporter": "python",
   "pygments_lexer": "ipython2",
   "version": "2.7.9"
  }
 },
 "nbformat": 4,
 "nbformat_minor": 1
}
